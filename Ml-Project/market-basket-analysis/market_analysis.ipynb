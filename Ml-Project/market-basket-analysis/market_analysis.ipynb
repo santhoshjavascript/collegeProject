{
 "cells": [
  {
   "cell_type": "code",
   "execution_count": null,
   "id": "1ef713e4",
   "metadata": {},
   "outputs": [],
   "source": [
    "import numpy as np\n",
    "import pandas as pd\n",
    "from mlxtend.frequent_patterns import apriori\n",
    "from mlxtend.frequent_patterns import association_rules\n",
    "import time\n",
    "df = pd.read_csv('OnlineRetailShopGermany.csv')\n",
    "df.head()"
   ]
  },
  {
   "cell_type": "code",
   "execution_count": null,
   "id": "b8bce61d",
   "metadata": {},
   "outputs": [],
   "source": [
    "print (df.isnull().values.any())\n",
    "missing_value = [\"NaN\", \"NONE\", \"None\", \"nan\", \"none\", \"n/a\", \"na\", \" \"]\n",
    "df = pd.read_csv('OnlineRetailShopGermany.csv', na_values = missing_value)\n",
    "print (df.isnull().sum())\n",
    "df['Description'] = df['Description'].str.strip()\n",
    "# ranking the top 10 best-selling items\n",
    "df.Description.value_counts(normalize=True)[:10]\n",
    "df.drop(df[df['Description'] == 'POSTAGE'].index, inplace = True)\n",
    "df.shape\n",
    "df.Description.value_counts(normalize=True)[:30].plot(kind=\"bar\", figsize=(10,5), title=\"Percentage of Sales by Item\").set(xlabel=\"Item\", ylabel=\"Percentage\")"
   ]
  },
  {
   "cell_type": "code",
   "execution_count": null,
   "id": "402df425",
   "metadata": {},
   "outputs": [],
   "source": [
    "# create a bar chart, rank by value\n",
    "df.Description.value_counts()[:30].plot(kind=\"bar\", figsize=(10,5), title=\"Total Number of Sales by Item\").set(xlabel=\"Item\", ylabel=\"Total Number\")\n",
    "df2 = (df.groupby(['InvoiceNo', 'Description'])['Quantity']\n",
    "          .sum().unstack().reset_index().fillna(0)\n",
    "          .set_index('InvoiceNo'))\n",
    "def convertToZeroOne(x):\n",
    "    if x <= 0:\n",
    "        return 0\n",
    "    if x >= 1:\n",
    "        return 1\n",
    "\n",
    "df3 = df2.applymap(convertToZeroOne)\n",
    "start_time = time.time()\n",
    "frequent_itemsets = apriori(df3, min_support=0.04, use_colnames=True)\n",
    "end_time = time.time()\n",
    "frequent_itemsets\n",
    "rules = association_rules(frequent_itemsets, metric=\"lift\", min_threshold=1)\n",
    "#Filtering rules based on condition\n",
    "rules[(rules['lift'] >= 0.5) & (rules['confidence'] >= 0.3)]"
   ]
  },
  {
   "cell_type": "code",
   "execution_count": null,
   "id": "48b9764d",
   "metadata": {},
   "outputs": [],
   "source": [
    "# Import seaborn under its standard alias\n",
    "import seaborn as sns\n",
    "import matplotlib.pyplot as plt\n",
    "\n",
    "\n",
    "# Generate scatterplot using support and confidence\n",
    "sns.scatterplot(x = \"support\", y = \"confidence\", \n",
    "                size = \"lift\", data = rules)\n",
    "plt.show()\n",
    "print(end_time-start_time)"
   ]
  },
  {
   "cell_type": "code",
   "execution_count": null,
   "id": "e9d10ad2",
   "metadata": {},
   "outputs": [],
   "source": []
  }
 ],
 "metadata": {
  "kernelspec": {
   "display_name": "Python 3 (ipykernel)",
   "language": "python",
   "name": "python3"
  },
  "language_info": {
   "codemirror_mode": {
    "name": "ipython",
    "version": 3
   },
   "file_extension": ".py",
   "mimetype": "text/x-python",
   "name": "python",
   "nbconvert_exporter": "python",
   "pygments_lexer": "ipython3",
   "version": "3.10.5"
  }
 },
 "nbformat": 4,
 "nbformat_minor": 5
}
