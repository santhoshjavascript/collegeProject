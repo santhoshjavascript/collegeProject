{
 "cells": [
  {
   "cell_type": "markdown",
   "id": "57e97fb2",
   "metadata": {
    "papermill": {
     "duration": 0.015846,
     "end_time": "2023-03-16T16:52:39.599357",
     "exception": false,
     "start_time": "2023-03-16T16:52:39.583511",
     "status": "completed"
    },
    "tags": []
   },
   "source": [
    "# Importing necessary Libraries"
   ]
  },
  {
   "cell_type": "code",
   "execution_count": 1,
   "id": "0b32149f",
   "metadata": {
    "execution": {
     "iopub.execute_input": "2023-03-16T16:52:39.625859Z",
     "iopub.status.busy": "2023-03-16T16:52:39.624502Z",
     "iopub.status.idle": "2023-03-16T16:52:41.777916Z",
     "shell.execute_reply": "2023-03-16T16:52:41.776691Z"
    },
    "papermill": {
     "duration": 2.169294,
     "end_time": "2023-03-16T16:52:41.781330",
     "exception": false,
     "start_time": "2023-03-16T16:52:39.612036",
     "status": "completed"
    },
    "tags": []
   },
   "outputs": [],
   "source": [
    "import pandas as pd\n",
    "import numpy as np\n",
    "import matplotlib.pyplot as plt\n",
    "import seaborn as sns"
   ]
  },
  {
   "cell_type": "markdown",
   "id": "31292d45",
   "metadata": {
    "papermill": {
     "duration": 0.007703,
     "end_time": "2023-03-16T16:52:41.797345",
     "exception": false,
     "start_time": "2023-03-16T16:52:41.789642",
     "status": "completed"
    },
    "tags": []
   },
   "source": [
    "# Reading the Data"
   ]
  },
  {
   "cell_type": "code",
   "execution_count": 2,
   "id": "463a0ce1",
   "metadata": {
    "execution": {
     "iopub.execute_input": "2023-03-16T16:52:41.817138Z",
     "iopub.status.busy": "2023-03-16T16:52:41.816024Z",
     "iopub.status.idle": "2023-03-16T16:52:41.876468Z",
     "shell.execute_reply": "2023-03-16T16:52:41.875119Z"
    },
    "papermill": {
     "duration": 0.073033,
     "end_time": "2023-03-16T16:52:41.879099",
     "exception": false,
     "start_time": "2023-03-16T16:52:41.806066",
     "status": "completed"
    },
    "tags": []
   },
   "outputs": [
    {
     "data": {
      "text/html": [
       "<div>\n",
       "<style scoped>\n",
       "    .dataframe tbody tr th:only-of-type {\n",
       "        vertical-align: middle;\n",
       "    }\n",
       "\n",
       "    .dataframe tbody tr th {\n",
       "        vertical-align: top;\n",
       "    }\n",
       "\n",
       "    .dataframe thead th {\n",
       "        text-align: right;\n",
       "    }\n",
       "</style>\n",
       "<table border=\"1\" class=\"dataframe\">\n",
       "  <thead>\n",
       "    <tr style=\"text-align: right;\">\n",
       "      <th></th>\n",
       "      <th>title</th>\n",
       "      <th>magnitude</th>\n",
       "      <th>date_time</th>\n",
       "      <th>cdi</th>\n",
       "      <th>mmi</th>\n",
       "      <th>alert</th>\n",
       "      <th>tsunami</th>\n",
       "      <th>sig</th>\n",
       "      <th>net</th>\n",
       "      <th>nst</th>\n",
       "      <th>dmin</th>\n",
       "      <th>gap</th>\n",
       "      <th>magType</th>\n",
       "      <th>depth</th>\n",
       "      <th>latitude</th>\n",
       "      <th>longitude</th>\n",
       "      <th>location</th>\n",
       "      <th>continent</th>\n",
       "      <th>country</th>\n",
       "    </tr>\n",
       "  </thead>\n",
       "  <tbody>\n",
       "    <tr>\n",
       "      <th>0</th>\n",
       "      <td>M 7.0 - 18 km SW of Malango, Solomon Islands</td>\n",
       "      <td>7.0</td>\n",
       "      <td>22-11-2022 02:03</td>\n",
       "      <td>8</td>\n",
       "      <td>7</td>\n",
       "      <td>green</td>\n",
       "      <td>1</td>\n",
       "      <td>768</td>\n",
       "      <td>us</td>\n",
       "      <td>117</td>\n",
       "      <td>0.509</td>\n",
       "      <td>17.0</td>\n",
       "      <td>mww</td>\n",
       "      <td>14.000</td>\n",
       "      <td>-9.7963</td>\n",
       "      <td>159.596</td>\n",
       "      <td>Malango, Solomon Islands</td>\n",
       "      <td>Oceania</td>\n",
       "      <td>Solomon Islands</td>\n",
       "    </tr>\n",
       "    <tr>\n",
       "      <th>1</th>\n",
       "      <td>M 6.9 - 204 km SW of Bengkulu, Indonesia</td>\n",
       "      <td>6.9</td>\n",
       "      <td>18-11-2022 13:37</td>\n",
       "      <td>4</td>\n",
       "      <td>4</td>\n",
       "      <td>green</td>\n",
       "      <td>0</td>\n",
       "      <td>735</td>\n",
       "      <td>us</td>\n",
       "      <td>99</td>\n",
       "      <td>2.229</td>\n",
       "      <td>34.0</td>\n",
       "      <td>mww</td>\n",
       "      <td>25.000</td>\n",
       "      <td>-4.9559</td>\n",
       "      <td>100.738</td>\n",
       "      <td>Bengkulu, Indonesia</td>\n",
       "      <td>NaN</td>\n",
       "      <td>NaN</td>\n",
       "    </tr>\n",
       "    <tr>\n",
       "      <th>2</th>\n",
       "      <td>M 7.0 -</td>\n",
       "      <td>7.0</td>\n",
       "      <td>12-11-2022 07:09</td>\n",
       "      <td>3</td>\n",
       "      <td>3</td>\n",
       "      <td>green</td>\n",
       "      <td>1</td>\n",
       "      <td>755</td>\n",
       "      <td>us</td>\n",
       "      <td>147</td>\n",
       "      <td>3.125</td>\n",
       "      <td>18.0</td>\n",
       "      <td>mww</td>\n",
       "      <td>579.000</td>\n",
       "      <td>-20.0508</td>\n",
       "      <td>-178.346</td>\n",
       "      <td>NaN</td>\n",
       "      <td>Oceania</td>\n",
       "      <td>Fiji</td>\n",
       "    </tr>\n",
       "    <tr>\n",
       "      <th>3</th>\n",
       "      <td>M 7.3 - 205 km ESE of Neiafu, Tonga</td>\n",
       "      <td>7.3</td>\n",
       "      <td>11-11-2022 10:48</td>\n",
       "      <td>5</td>\n",
       "      <td>5</td>\n",
       "      <td>green</td>\n",
       "      <td>1</td>\n",
       "      <td>833</td>\n",
       "      <td>us</td>\n",
       "      <td>149</td>\n",
       "      <td>1.865</td>\n",
       "      <td>21.0</td>\n",
       "      <td>mww</td>\n",
       "      <td>37.000</td>\n",
       "      <td>-19.2918</td>\n",
       "      <td>-172.129</td>\n",
       "      <td>Neiafu, Tonga</td>\n",
       "      <td>NaN</td>\n",
       "      <td>NaN</td>\n",
       "    </tr>\n",
       "    <tr>\n",
       "      <th>4</th>\n",
       "      <td>M 6.6 -</td>\n",
       "      <td>6.6</td>\n",
       "      <td>09-11-2022 10:14</td>\n",
       "      <td>0</td>\n",
       "      <td>2</td>\n",
       "      <td>green</td>\n",
       "      <td>1</td>\n",
       "      <td>670</td>\n",
       "      <td>us</td>\n",
       "      <td>131</td>\n",
       "      <td>4.998</td>\n",
       "      <td>27.0</td>\n",
       "      <td>mww</td>\n",
       "      <td>624.464</td>\n",
       "      <td>-25.5948</td>\n",
       "      <td>178.278</td>\n",
       "      <td>NaN</td>\n",
       "      <td>NaN</td>\n",
       "      <td>NaN</td>\n",
       "    </tr>\n",
       "  </tbody>\n",
       "</table>\n",
       "</div>"
      ],
      "text/plain": [
       "                                          title  magnitude         date_time  \\\n",
       "0  M 7.0 - 18 km SW of Malango, Solomon Islands        7.0  22-11-2022 02:03   \n",
       "1      M 6.9 - 204 km SW of Bengkulu, Indonesia        6.9  18-11-2022 13:37   \n",
       "2                                      M 7.0 -         7.0  12-11-2022 07:09   \n",
       "3           M 7.3 - 205 km ESE of Neiafu, Tonga        7.3  11-11-2022 10:48   \n",
       "4                                      M 6.6 -         6.6  09-11-2022 10:14   \n",
       "\n",
       "   cdi  mmi  alert  tsunami  sig net  nst   dmin   gap magType    depth  \\\n",
       "0    8    7  green        1  768  us  117  0.509  17.0     mww   14.000   \n",
       "1    4    4  green        0  735  us   99  2.229  34.0     mww   25.000   \n",
       "2    3    3  green        1  755  us  147  3.125  18.0     mww  579.000   \n",
       "3    5    5  green        1  833  us  149  1.865  21.0     mww   37.000   \n",
       "4    0    2  green        1  670  us  131  4.998  27.0     mww  624.464   \n",
       "\n",
       "   latitude  longitude                  location continent          country  \n",
       "0   -9.7963    159.596  Malango, Solomon Islands   Oceania  Solomon Islands  \n",
       "1   -4.9559    100.738       Bengkulu, Indonesia       NaN              NaN  \n",
       "2  -20.0508   -178.346                       NaN   Oceania             Fiji  \n",
       "3  -19.2918   -172.129             Neiafu, Tonga       NaN              NaN  \n",
       "4  -25.5948    178.278                       NaN       NaN              NaN  "
      ]
     },
     "execution_count": 2,
     "metadata": {},
     "output_type": "execute_result"
    }
   ],
   "source": [
    "data = pd.read_csv('earthquake_data.csv')\n",
    "data.head()"
   ]
  },
  {
   "cell_type": "code",
   "execution_count": 3,
   "id": "d338dc4f",
   "metadata": {
    "execution": {
     "iopub.execute_input": "2023-03-16T16:52:41.898815Z",
     "iopub.status.busy": "2023-03-16T16:52:41.898361Z",
     "iopub.status.idle": "2023-03-16T16:52:41.910122Z",
     "shell.execute_reply": "2023-03-16T16:52:41.909071Z"
    },
    "papermill": {
     "duration": 0.024455,
     "end_time": "2023-03-16T16:52:41.912755",
     "exception": false,
     "start_time": "2023-03-16T16:52:41.888300",
     "status": "completed"
    },
    "tags": []
   },
   "outputs": [],
   "source": [
    "alerts = data[\"alert\"].unique()"
   ]
  },
  {
   "cell_type": "code",
   "execution_count": 4,
   "id": "167211a6",
   "metadata": {
    "execution": {
     "iopub.execute_input": "2023-03-16T16:52:41.932440Z",
     "iopub.status.busy": "2023-03-16T16:52:41.931223Z",
     "iopub.status.idle": "2023-03-16T16:52:41.954588Z",
     "shell.execute_reply": "2023-03-16T16:52:41.952814Z"
    },
    "papermill": {
     "duration": 0.036236,
     "end_time": "2023-03-16T16:52:41.957555",
     "exception": false,
     "start_time": "2023-03-16T16:52:41.921319",
     "status": "completed"
    },
    "tags": []
   },
   "outputs": [
    {
     "name": "stdout",
     "output_type": "stream",
     "text": [
      "<class 'pandas.core.frame.DataFrame'>\n",
      "RangeIndex: 782 entries, 0 to 781\n",
      "Data columns (total 19 columns):\n",
      " #   Column     Non-Null Count  Dtype  \n",
      "---  ------     --------------  -----  \n",
      " 0   title      782 non-null    object \n",
      " 1   magnitude  782 non-null    float64\n",
      " 2   date_time  782 non-null    object \n",
      " 3   cdi        782 non-null    int64  \n",
      " 4   mmi        782 non-null    int64  \n",
      " 5   alert      415 non-null    object \n",
      " 6   tsunami    782 non-null    int64  \n",
      " 7   sig        782 non-null    int64  \n",
      " 8   net        782 non-null    object \n",
      " 9   nst        782 non-null    int64  \n",
      " 10  dmin       782 non-null    float64\n",
      " 11  gap        782 non-null    float64\n",
      " 12  magType    782 non-null    object \n",
      " 13  depth      782 non-null    float64\n",
      " 14  latitude   782 non-null    float64\n",
      " 15  longitude  782 non-null    float64\n",
      " 16  location   777 non-null    object \n",
      " 17  continent  206 non-null    object \n",
      " 18  country    484 non-null    object \n",
      "dtypes: float64(6), int64(5), object(8)\n",
      "memory usage: 116.2+ KB\n"
     ]
    }
   ],
   "source": [
    "data.info()"
   ]
  },
  {
   "cell_type": "code",
   "execution_count": 5,
   "id": "3d102a3a",
   "metadata": {},
   "outputs": [
    {
     "data": {
      "text/html": [
       "<div>\n",
       "<style scoped>\n",
       "    .dataframe tbody tr th:only-of-type {\n",
       "        vertical-align: middle;\n",
       "    }\n",
       "\n",
       "    .dataframe tbody tr th {\n",
       "        vertical-align: top;\n",
       "    }\n",
       "\n",
       "    .dataframe thead th {\n",
       "        text-align: right;\n",
       "    }\n",
       "</style>\n",
       "<table border=\"1\" class=\"dataframe\">\n",
       "  <thead>\n",
       "    <tr style=\"text-align: right;\">\n",
       "      <th></th>\n",
       "      <th>count</th>\n",
       "      <th>mean</th>\n",
       "      <th>std</th>\n",
       "      <th>min</th>\n",
       "      <th>25%</th>\n",
       "      <th>50%</th>\n",
       "      <th>75%</th>\n",
       "      <th>max</th>\n",
       "    </tr>\n",
       "  </thead>\n",
       "  <tbody>\n",
       "    <tr>\n",
       "      <th>magnitude</th>\n",
       "      <td>782.0</td>\n",
       "      <td>6.941125</td>\n",
       "      <td>0.445514</td>\n",
       "      <td>6.5000</td>\n",
       "      <td>6.60000</td>\n",
       "      <td>6.8000</td>\n",
       "      <td>7.1000</td>\n",
       "      <td>9.1000</td>\n",
       "    </tr>\n",
       "    <tr>\n",
       "      <th>cdi</th>\n",
       "      <td>782.0</td>\n",
       "      <td>4.333760</td>\n",
       "      <td>3.169939</td>\n",
       "      <td>0.0000</td>\n",
       "      <td>0.00000</td>\n",
       "      <td>5.0000</td>\n",
       "      <td>7.0000</td>\n",
       "      <td>9.0000</td>\n",
       "    </tr>\n",
       "    <tr>\n",
       "      <th>mmi</th>\n",
       "      <td>782.0</td>\n",
       "      <td>5.964194</td>\n",
       "      <td>1.462724</td>\n",
       "      <td>1.0000</td>\n",
       "      <td>5.00000</td>\n",
       "      <td>6.0000</td>\n",
       "      <td>7.0000</td>\n",
       "      <td>9.0000</td>\n",
       "    </tr>\n",
       "    <tr>\n",
       "      <th>tsunami</th>\n",
       "      <td>782.0</td>\n",
       "      <td>0.388747</td>\n",
       "      <td>0.487778</td>\n",
       "      <td>0.0000</td>\n",
       "      <td>0.00000</td>\n",
       "      <td>0.0000</td>\n",
       "      <td>1.0000</td>\n",
       "      <td>1.0000</td>\n",
       "    </tr>\n",
       "    <tr>\n",
       "      <th>sig</th>\n",
       "      <td>782.0</td>\n",
       "      <td>870.108696</td>\n",
       "      <td>322.465367</td>\n",
       "      <td>650.0000</td>\n",
       "      <td>691.00000</td>\n",
       "      <td>754.0000</td>\n",
       "      <td>909.7500</td>\n",
       "      <td>2910.0000</td>\n",
       "    </tr>\n",
       "    <tr>\n",
       "      <th>nst</th>\n",
       "      <td>782.0</td>\n",
       "      <td>230.250639</td>\n",
       "      <td>250.188177</td>\n",
       "      <td>0.0000</td>\n",
       "      <td>0.00000</td>\n",
       "      <td>140.0000</td>\n",
       "      <td>445.0000</td>\n",
       "      <td>934.0000</td>\n",
       "    </tr>\n",
       "    <tr>\n",
       "      <th>dmin</th>\n",
       "      <td>782.0</td>\n",
       "      <td>1.325757</td>\n",
       "      <td>2.218805</td>\n",
       "      <td>0.0000</td>\n",
       "      <td>0.00000</td>\n",
       "      <td>0.0000</td>\n",
       "      <td>1.8630</td>\n",
       "      <td>17.6540</td>\n",
       "    </tr>\n",
       "    <tr>\n",
       "      <th>gap</th>\n",
       "      <td>782.0</td>\n",
       "      <td>25.038990</td>\n",
       "      <td>24.225067</td>\n",
       "      <td>0.0000</td>\n",
       "      <td>14.62500</td>\n",
       "      <td>20.0000</td>\n",
       "      <td>30.0000</td>\n",
       "      <td>239.0000</td>\n",
       "    </tr>\n",
       "    <tr>\n",
       "      <th>depth</th>\n",
       "      <td>782.0</td>\n",
       "      <td>75.883199</td>\n",
       "      <td>137.277078</td>\n",
       "      <td>2.7000</td>\n",
       "      <td>14.00000</td>\n",
       "      <td>26.2950</td>\n",
       "      <td>49.7500</td>\n",
       "      <td>670.8100</td>\n",
       "    </tr>\n",
       "    <tr>\n",
       "      <th>latitude</th>\n",
       "      <td>782.0</td>\n",
       "      <td>3.538100</td>\n",
       "      <td>27.303429</td>\n",
       "      <td>-61.8484</td>\n",
       "      <td>-14.59560</td>\n",
       "      <td>-2.5725</td>\n",
       "      <td>24.6545</td>\n",
       "      <td>71.6312</td>\n",
       "    </tr>\n",
       "    <tr>\n",
       "      <th>longitude</th>\n",
       "      <td>782.0</td>\n",
       "      <td>52.609199</td>\n",
       "      <td>117.898886</td>\n",
       "      <td>-179.9680</td>\n",
       "      <td>-71.66805</td>\n",
       "      <td>109.4260</td>\n",
       "      <td>148.9410</td>\n",
       "      <td>179.6620</td>\n",
       "    </tr>\n",
       "  </tbody>\n",
       "</table>\n",
       "</div>"
      ],
      "text/plain": [
       "           count        mean         std       min        25%       50%  \\\n",
       "magnitude  782.0    6.941125    0.445514    6.5000    6.60000    6.8000   \n",
       "cdi        782.0    4.333760    3.169939    0.0000    0.00000    5.0000   \n",
       "mmi        782.0    5.964194    1.462724    1.0000    5.00000    6.0000   \n",
       "tsunami    782.0    0.388747    0.487778    0.0000    0.00000    0.0000   \n",
       "sig        782.0  870.108696  322.465367  650.0000  691.00000  754.0000   \n",
       "nst        782.0  230.250639  250.188177    0.0000    0.00000  140.0000   \n",
       "dmin       782.0    1.325757    2.218805    0.0000    0.00000    0.0000   \n",
       "gap        782.0   25.038990   24.225067    0.0000   14.62500   20.0000   \n",
       "depth      782.0   75.883199  137.277078    2.7000   14.00000   26.2950   \n",
       "latitude   782.0    3.538100   27.303429  -61.8484  -14.59560   -2.5725   \n",
       "longitude  782.0   52.609199  117.898886 -179.9680  -71.66805  109.4260   \n",
       "\n",
       "                75%        max  \n",
       "magnitude    7.1000     9.1000  \n",
       "cdi          7.0000     9.0000  \n",
       "mmi          7.0000     9.0000  \n",
       "tsunami      1.0000     1.0000  \n",
       "sig        909.7500  2910.0000  \n",
       "nst        445.0000   934.0000  \n",
       "dmin         1.8630    17.6540  \n",
       "gap         30.0000   239.0000  \n",
       "depth       49.7500   670.8100  \n",
       "latitude    24.6545    71.6312  \n",
       "longitude  148.9410   179.6620  "
      ]
     },
     "execution_count": 5,
     "metadata": {},
     "output_type": "execute_result"
    }
   ],
   "source": [
    "data.describe().transpose()"
   ]
  },
  {
   "cell_type": "code",
   "execution_count": 6,
   "id": "e686c2df",
   "metadata": {},
   "outputs": [
    {
     "data": {
      "text/plain": [
       "title          0\n",
       "magnitude      0\n",
       "date_time      0\n",
       "cdi            0\n",
       "mmi            0\n",
       "alert        367\n",
       "tsunami        0\n",
       "sig            0\n",
       "net            0\n",
       "nst            0\n",
       "dmin           0\n",
       "gap            0\n",
       "magType        0\n",
       "depth          0\n",
       "latitude       0\n",
       "longitude      0\n",
       "location       5\n",
       "continent    576\n",
       "country      298\n",
       "dtype: int64"
      ]
     },
     "execution_count": 6,
     "metadata": {},
     "output_type": "execute_result"
    }
   ],
   "source": [
    "data.isnull().sum()"
   ]
  },
  {
   "cell_type": "markdown",
   "id": "88624730",
   "metadata": {
    "papermill": {
     "duration": 0.00835,
     "end_time": "2023-03-16T16:52:41.975005",
     "exception": false,
     "start_time": "2023-03-16T16:52:41.966655",
     "status": "completed"
    },
    "tags": []
   },
   "source": [
    "# Cleaning the Data"
   ]
  },
  {
   "cell_type": "code",
   "execution_count": 7,
   "id": "1c50cef4",
   "metadata": {
    "execution": {
     "iopub.execute_input": "2023-03-16T16:52:41.995010Z",
     "iopub.status.busy": "2023-03-16T16:52:41.994608Z",
     "iopub.status.idle": "2023-03-16T16:52:42.004257Z",
     "shell.execute_reply": "2023-03-16T16:52:42.002831Z"
    },
    "papermill": {
     "duration": 0.022565,
     "end_time": "2023-03-16T16:52:42.007175",
     "exception": false,
     "start_time": "2023-03-16T16:52:41.984610",
     "status": "completed"
    },
    "tags": []
   },
   "outputs": [
    {
     "data": {
      "text/html": [
       "<div>\n",
       "<style scoped>\n",
       "    .dataframe tbody tr th:only-of-type {\n",
       "        vertical-align: middle;\n",
       "    }\n",
       "\n",
       "    .dataframe tbody tr th {\n",
       "        vertical-align: top;\n",
       "    }\n",
       "\n",
       "    .dataframe thead th {\n",
       "        text-align: right;\n",
       "    }\n",
       "</style>\n",
       "<table border=\"1\" class=\"dataframe\">\n",
       "  <thead>\n",
       "    <tr style=\"text-align: right;\">\n",
       "      <th></th>\n",
       "      <th>magnitude</th>\n",
       "      <th>depth</th>\n",
       "      <th>cdi</th>\n",
       "      <th>mmi</th>\n",
       "      <th>sig</th>\n",
       "      <th>alert</th>\n",
       "    </tr>\n",
       "  </thead>\n",
       "  <tbody>\n",
       "    <tr>\n",
       "      <th>0</th>\n",
       "      <td>7.0</td>\n",
       "      <td>14.000</td>\n",
       "      <td>8</td>\n",
       "      <td>7</td>\n",
       "      <td>768</td>\n",
       "      <td>green</td>\n",
       "    </tr>\n",
       "    <tr>\n",
       "      <th>1</th>\n",
       "      <td>6.9</td>\n",
       "      <td>25.000</td>\n",
       "      <td>4</td>\n",
       "      <td>4</td>\n",
       "      <td>735</td>\n",
       "      <td>green</td>\n",
       "    </tr>\n",
       "    <tr>\n",
       "      <th>2</th>\n",
       "      <td>7.0</td>\n",
       "      <td>579.000</td>\n",
       "      <td>3</td>\n",
       "      <td>3</td>\n",
       "      <td>755</td>\n",
       "      <td>green</td>\n",
       "    </tr>\n",
       "    <tr>\n",
       "      <th>3</th>\n",
       "      <td>7.3</td>\n",
       "      <td>37.000</td>\n",
       "      <td>5</td>\n",
       "      <td>5</td>\n",
       "      <td>833</td>\n",
       "      <td>green</td>\n",
       "    </tr>\n",
       "    <tr>\n",
       "      <th>4</th>\n",
       "      <td>6.6</td>\n",
       "      <td>624.464</td>\n",
       "      <td>0</td>\n",
       "      <td>2</td>\n",
       "      <td>670</td>\n",
       "      <td>green</td>\n",
       "    </tr>\n",
       "    <tr>\n",
       "      <th>5</th>\n",
       "      <td>7.0</td>\n",
       "      <td>660.000</td>\n",
       "      <td>4</td>\n",
       "      <td>3</td>\n",
       "      <td>755</td>\n",
       "      <td>green</td>\n",
       "    </tr>\n",
       "    <tr>\n",
       "      <th>6</th>\n",
       "      <td>6.8</td>\n",
       "      <td>630.379</td>\n",
       "      <td>1</td>\n",
       "      <td>3</td>\n",
       "      <td>711</td>\n",
       "      <td>green</td>\n",
       "    </tr>\n",
       "    <tr>\n",
       "      <th>7</th>\n",
       "      <td>6.7</td>\n",
       "      <td>20.000</td>\n",
       "      <td>7</td>\n",
       "      <td>6</td>\n",
       "      <td>797</td>\n",
       "      <td>green</td>\n",
       "    </tr>\n",
       "    <tr>\n",
       "      <th>8</th>\n",
       "      <td>6.8</td>\n",
       "      <td>20.000</td>\n",
       "      <td>8</td>\n",
       "      <td>7</td>\n",
       "      <td>1179</td>\n",
       "      <td>yellow</td>\n",
       "    </tr>\n",
       "    <tr>\n",
       "      <th>9</th>\n",
       "      <td>7.6</td>\n",
       "      <td>26.943</td>\n",
       "      <td>9</td>\n",
       "      <td>8</td>\n",
       "      <td>1799</td>\n",
       "      <td>yellow</td>\n",
       "    </tr>\n",
       "  </tbody>\n",
       "</table>\n",
       "</div>"
      ],
      "text/plain": [
       "   magnitude    depth  cdi  mmi   sig   alert\n",
       "0        7.0   14.000    8    7   768   green\n",
       "1        6.9   25.000    4    4   735   green\n",
       "2        7.0  579.000    3    3   755   green\n",
       "3        7.3   37.000    5    5   833   green\n",
       "4        6.6  624.464    0    2   670   green\n",
       "5        7.0  660.000    4    3   755   green\n",
       "6        6.8  630.379    1    3   711   green\n",
       "7        6.7   20.000    7    6   797   green\n",
       "8        6.8   20.000    8    7  1179  yellow\n",
       "9        7.6   26.943    9    8  1799  yellow"
      ]
     },
     "execution_count": 7,
     "metadata": {},
     "output_type": "execute_result"
    }
   ],
   "source": [
    "features = [\"magnitude\", \"depth\", \"cdi\", \"mmi\", \"sig\"]\n",
    "target = \"alert\"\n",
    "data = data[features + [target]]\n",
    "data.head(10)"
   ]
  },
  {
   "cell_type": "code",
   "execution_count": 8,
   "id": "a097ac41",
   "metadata": {},
   "outputs": [
    {
     "data": {
      "text/html": [
       "<div>\n",
       "<style scoped>\n",
       "    .dataframe tbody tr th:only-of-type {\n",
       "        vertical-align: middle;\n",
       "    }\n",
       "\n",
       "    .dataframe tbody tr th {\n",
       "        vertical-align: top;\n",
       "    }\n",
       "\n",
       "    .dataframe thead th {\n",
       "        text-align: right;\n",
       "    }\n",
       "</style>\n",
       "<table border=\"1\" class=\"dataframe\">\n",
       "  <thead>\n",
       "    <tr style=\"text-align: right;\">\n",
       "      <th></th>\n",
       "      <th>magnitude</th>\n",
       "      <th>depth</th>\n",
       "      <th>cdi</th>\n",
       "      <th>mmi</th>\n",
       "      <th>sig</th>\n",
       "      <th>alert</th>\n",
       "    </tr>\n",
       "  </thead>\n",
       "  <tbody>\n",
       "    <tr>\n",
       "      <th>0</th>\n",
       "      <td>7.0</td>\n",
       "      <td>14.000</td>\n",
       "      <td>8</td>\n",
       "      <td>7</td>\n",
       "      <td>768</td>\n",
       "      <td>green</td>\n",
       "    </tr>\n",
       "    <tr>\n",
       "      <th>1</th>\n",
       "      <td>6.9</td>\n",
       "      <td>25.000</td>\n",
       "      <td>4</td>\n",
       "      <td>4</td>\n",
       "      <td>735</td>\n",
       "      <td>green</td>\n",
       "    </tr>\n",
       "    <tr>\n",
       "      <th>2</th>\n",
       "      <td>7.0</td>\n",
       "      <td>579.000</td>\n",
       "      <td>3</td>\n",
       "      <td>3</td>\n",
       "      <td>755</td>\n",
       "      <td>green</td>\n",
       "    </tr>\n",
       "    <tr>\n",
       "      <th>3</th>\n",
       "      <td>7.3</td>\n",
       "      <td>37.000</td>\n",
       "      <td>5</td>\n",
       "      <td>5</td>\n",
       "      <td>833</td>\n",
       "      <td>green</td>\n",
       "    </tr>\n",
       "    <tr>\n",
       "      <th>4</th>\n",
       "      <td>6.6</td>\n",
       "      <td>624.464</td>\n",
       "      <td>0</td>\n",
       "      <td>2</td>\n",
       "      <td>670</td>\n",
       "      <td>green</td>\n",
       "    </tr>\n",
       "  </tbody>\n",
       "</table>\n",
       "</div>"
      ],
      "text/plain": [
       "   magnitude    depth  cdi  mmi  sig  alert\n",
       "0        7.0   14.000    8    7  768  green\n",
       "1        6.9   25.000    4    4  735  green\n",
       "2        7.0  579.000    3    3  755  green\n",
       "3        7.3   37.000    5    5  833  green\n",
       "4        6.6  624.464    0    2  670  green"
      ]
     },
     "execution_count": 8,
     "metadata": {},
     "output_type": "execute_result"
    }
   ],
   "source": [
    "data.head()"
   ]
  },
  {
   "cell_type": "code",
   "execution_count": 9,
   "id": "cd0ea7a3",
   "metadata": {},
   "outputs": [
    {
     "data": {
      "image/png": "[encoded data removed]",
      "text/plain": [
       "<Figure size 600x1200 with 1 Axes>"
      ]
     },
     "metadata": {},
     "output_type": "display_data"
    }
   ],
   "source": [
    "plt.figure(figsize = (6,12))\n",
    "plt.pie(x = data[target].value_counts(), labels = ['blue','orange','green','red'], autopct = '%.2f')\n",
    "plt.title(\"Distribution of values in alert column\")\n",
    "plt.legend()\n",
    "plt.show()"
   ]
  },
  {
   "cell_type": "code",
   "execution_count": 10,
   "id": "f85b013a",
   "metadata": {
    "execution": {
     "iopub.execute_input": "2023-03-16T16:52:42.058477Z",
     "iopub.status.busy": "2023-03-16T16:52:42.058007Z",
     "iopub.status.idle": "2023-03-16T16:52:42.074015Z",
     "shell.execute_reply": "2023-03-16T16:52:42.072937Z"
    },
    "papermill": {
     "duration": 0.030103,
     "end_time": "2023-03-16T16:52:42.077670",
     "exception": false,
     "start_time": "2023-03-16T16:52:42.047567",
     "status": "completed"
    },
    "tags": []
   },
   "outputs": [
    {
     "name": "stdout",
     "output_type": "stream",
     "text": [
      "<class 'pandas.core.frame.DataFrame'>\n",
      "Int64Index: 415 entries, 0 to 507\n",
      "Data columns (total 6 columns):\n",
      " #   Column     Non-Null Count  Dtype  \n",
      "---  ------     --------------  -----  \n",
      " 0   magnitude  415 non-null    float64\n",
      " 1   depth      415 non-null    float64\n",
      " 2   cdi        415 non-null    int64  \n",
      " 3   mmi        415 non-null    int64  \n",
      " 4   sig        415 non-null    int64  \n",
      " 5   alert      415 non-null    object \n",
      "dtypes: float64(2), int64(3), object(1)\n",
      "memory usage: 22.7+ KB\n"
     ]
    }
   ],
   "source": [
    "data.dropna(inplace=True)\n",
    "data.info()"
   ]
  },
  {
   "cell_type": "markdown",
   "id": "070e9137",
   "metadata": {
    "papermill": {
     "duration": 0.008534,
     "end_time": "2023-03-16T16:52:42.096342",
     "exception": false,
     "start_time": "2023-03-16T16:52:42.087808",
     "status": "completed"
    },
    "tags": []
   },
   "source": [
    "# Data Preprocessing"
   ]
  },
  {
   "cell_type": "code",
   "execution_count": 11,
   "id": "0b1946ae",
   "metadata": {
    "execution": {
     "iopub.execute_input": "2023-03-16T16:52:42.132641Z",
     "iopub.status.busy": "2023-03-16T16:52:42.132202Z",
     "iopub.status.idle": "2023-03-16T16:52:42.155124Z",
     "shell.execute_reply": "2023-03-16T16:52:42.153320Z"
    },
    "papermill": {
     "duration": 0.035676,
     "end_time": "2023-03-16T16:52:42.157662",
     "exception": false,
     "start_time": "2023-03-16T16:52:42.121986",
     "status": "completed"
    },
    "tags": []
   },
   "outputs": [
    {
     "name": "stdout",
     "output_type": "stream",
     "text": [
      "<class 'pandas.core.frame.DataFrame'>\n",
      "Int64Index: 415 entries, 0 to 507\n",
      "Data columns (total 6 columns):\n",
      " #   Column     Non-Null Count  Dtype   \n",
      "---  ------     --------------  -----   \n",
      " 0   magnitude  415 non-null    float64 \n",
      " 1   depth      415 non-null    int16   \n",
      " 2   cdi        415 non-null    int8    \n",
      " 3   mmi        415 non-null    int8    \n",
      " 4   sig        415 non-null    int8    \n",
      " 5   alert      415 non-null    category\n",
      "dtypes: category(1), float64(1), int16(1), int8(3)\n",
      "memory usage: 9.1 KB\n"
     ]
    }
   ],
   "source": [
    "data = data.astype({'cdi': 'int8', 'mmi': 'int8', 'sig': 'int8', 'depth': 'int16', 'alert': 'category'})\n",
    "data.info()"
   ]
  },
  {
   "cell_type": "markdown",
   "id": "08d834df",
   "metadata": {
    "papermill": {
     "duration": 0.008257,
     "end_time": "2023-03-16T16:52:42.174909",
     "exception": false,
     "start_time": "2023-03-16T16:52:42.166652",
     "status": "completed"
    },
    "tags": []
   },
   "source": [
    "## Balancing the target column"
   ]
  },
  {
   "cell_type": "code",
   "execution_count": 12,
   "id": "62ab2e83",
   "metadata": {},
   "outputs": [
    {
     "data": {
      "image/png": "[encoded data removed]",
      "text/plain": [
       "<Figure size 640x480 with 1 Axes>"
      ]
     },
     "metadata": {},
     "output_type": "display_data"
    }
   ],
   "source": [
    "data[target].value_counts().plot(kind='bar', title='Count (target)', color=['green', 'yellow', 'orange', 'red']);"
   ]
  },
  {
   "cell_type": "code",
   "execution_count": 13,
   "id": "df2fc679",
   "metadata": {},
   "outputs": [],
   "source": [
    "from imblearn.over_sampling import SMOTE"
   ]
  },
  {
   "cell_type": "code",
   "execution_count": 14,
   "id": "92873152",
   "metadata": {
    "execution": {
     "iopub.execute_input": "2023-03-16T16:52:42.532994Z",
     "iopub.status.busy": "2023-03-16T16:52:42.532554Z",
     "iopub.status.idle": "2023-03-16T16:52:42.784627Z",
     "shell.execute_reply": "2023-03-16T16:52:42.783278Z"
    },
    "papermill": {
     "duration": 0.265403,
     "end_time": "2023-03-16T16:52:42.787309",
     "exception": false,
     "start_time": "2023-03-16T16:52:42.521906",
     "status": "completed"
    },
    "tags": []
   },
   "outputs": [
    {
     "data": {
      "image/png": "[encoded data removed]",
      "text/plain": [
       "<Figure size 640x480 with 1 Axes>"
      ]
     },
     "metadata": {},
     "output_type": "display_data"
    }
   ],
   "source": [
    "X = data[features]\n",
    "y = data[target]\n",
    "\n",
    "X = X.loc[:,~X.columns.duplicated()]\n",
    "\n",
    "sm = SMOTE(random_state=42)\n",
    "X_res, y_res= sm.fit_resample(X, y,)\n",
    "\n",
    "y_res.value_counts().plot(kind='bar', title='Count (target)', color=['green', 'orange', 'red', 'yellow']);"
   ]
  },
  {
   "cell_type": "markdown",
   "id": "71d2ea8b",
   "metadata": {
    "papermill": {
     "duration": 0.009219,
     "end_time": "2023-03-16T16:52:42.806405",
     "exception": false,
     "start_time": "2023-03-16T16:52:42.797186",
     "status": "completed"
    },
    "tags": []
   },
   "source": [
    "## Splitting & Scaling"
   ]
  },
  {
   "cell_type": "code",
   "execution_count": 15,
   "id": "8159cfdc",
   "metadata": {},
   "outputs": [],
   "source": [
    "from sklearn.model_selection import train_test_split"
   ]
  },
  {
   "cell_type": "code",
   "execution_count": 16,
   "id": "4441fa5d",
   "metadata": {
    "execution": {
     "iopub.execute_input": "2023-03-16T16:52:42.827344Z",
     "iopub.status.busy": "2023-03-16T16:52:42.826889Z",
     "iopub.status.idle": "2023-03-16T16:52:42.836083Z",
     "shell.execute_reply": "2023-03-16T16:52:42.834915Z"
    },
    "papermill": {
     "duration": 0.022681,
     "end_time": "2023-03-16T16:52:42.838469",
     "exception": false,
     "start_time": "2023-03-16T16:52:42.815788",
     "status": "completed"
    },
    "tags": []
   },
   "outputs": [],
   "source": [
    "X_train, X_test, y_train, y_test = train_test_split(X_res, y_res, test_size=0.2, random_state=42)"
   ]
  },
  {
   "cell_type": "code",
   "execution_count": 17,
   "id": "cc888ee5",
   "metadata": {},
   "outputs": [],
   "source": [
    "from sklearn.preprocessing import StandardScaler"
   ]
  },
  {
   "cell_type": "code",
   "execution_count": 18,
   "id": "fae28f26",
   "metadata": {
    "execution": {
     "iopub.execute_input": "2023-03-16T16:52:42.859526Z",
     "iopub.status.busy": "2023-03-16T16:52:42.859080Z",
     "iopub.status.idle": "2023-03-16T16:52:42.871007Z",
     "shell.execute_reply": "2023-03-16T16:52:42.869749Z"
    },
    "papermill": {
     "duration": 0.025818,
     "end_time": "2023-03-16T16:52:42.873734",
     "exception": false,
     "start_time": "2023-03-16T16:52:42.847916",
     "status": "completed"
    },
    "tags": []
   },
   "outputs": [],
   "source": [
    "scaler = StandardScaler()\n",
    "X_train = scaler.fit_transform(X_train)\n",
    "X_test = scaler.transform(X_test)"
   ]
  },
  {
   "cell_type": "markdown",
   "id": "933308ab",
   "metadata": {
    "papermill": {
     "duration": 0.009101,
     "end_time": "2023-03-16T16:52:42.892508",
     "exception": false,
     "start_time": "2023-03-16T16:52:42.883407",
     "status": "completed"
    },
    "tags": []
   },
   "source": [
    "# Exploratory Analysis"
   ]
  },
  {
   "cell_type": "code",
   "execution_count": 19,
   "id": "a8f574f2",
   "metadata": {
    "execution": {
     "iopub.execute_input": "2023-03-16T16:52:43.169391Z",
     "iopub.status.busy": "2023-03-16T16:52:43.168906Z",
     "iopub.status.idle": "2023-03-16T16:52:43.635197Z",
     "shell.execute_reply": "2023-03-16T16:52:43.633633Z"
    },
    "papermill": {
     "duration": 0.481247,
     "end_time": "2023-03-16T16:52:43.638279",
     "exception": false,
     "start_time": "2023-03-16T16:52:43.157032",
     "status": "completed"
    },
    "tags": []
   },
   "outputs": [
    {
     "data": {
      "text/plain": [
       "[]"
      ]
     },
     "execution_count": 19,
     "metadata": {},
     "output_type": "execute_result"
    },
    {
     "data": {
      "image/png": "[encoded data removed]",
      "text/plain": [
       "<Figure size 1000x600 with 2 Axes>"
      ]
     },
     "metadata": {},
     "output_type": "display_data"
    }
   ],
   "source": [
    "plt.figure(figsize = (10,6))\n",
    "sns.heatmap(data.corr(), annot=True, fmt=\".2f\")\n",
    "plt.plot()"
   ]
  },
  {
   "cell_type": "markdown",
   "id": "88417e6d",
   "metadata": {
    "papermill": {
     "duration": 0.011004,
     "end_time": "2023-03-16T16:52:43.661772",
     "exception": false,
     "start_time": "2023-03-16T16:52:43.650768",
     "status": "completed"
    },
    "tags": []
   },
   "source": [
    "# Implementing Models"
   ]
  },
  {
   "cell_type": "code",
   "execution_count": 20,
   "id": "e618a8d1",
   "metadata": {},
   "outputs": [],
   "source": [
    "from sklearn.tree import DecisionTreeClassifier"
   ]
  },
  {
   "cell_type": "code",
   "execution_count": 21,
   "id": "80d8d452",
   "metadata": {
    "execution": {
     "iopub.execute_input": "2023-03-16T16:52:43.722084Z",
     "iopub.status.busy": "2023-03-16T16:52:43.721634Z",
     "iopub.status.idle": "2023-03-16T16:52:43.733118Z",
     "shell.execute_reply": "2023-03-16T16:52:43.731834Z"
    },
    "papermill": {
     "duration": 0.028706,
     "end_time": "2023-03-16T16:52:43.736146",
     "exception": false,
     "start_time": "2023-03-16T16:52:43.707440",
     "status": "completed"
    },
    "tags": []
   },
   "outputs": [
    {
     "data": {
      "text/plain": [
       "DecisionTreeClassifier(random_state=42)"
      ]
     },
     "execution_count": 21,
     "metadata": {},
     "output_type": "execute_result"
    }
   ],
   "source": [
    "dt = DecisionTreeClassifier(random_state=42)\n",
    "dt.fit(X_train, y_train)"
   ]
  },
  {
   "cell_type": "code",
   "execution_count": 22,
   "id": "8d6c6805",
   "metadata": {},
   "outputs": [],
   "source": [
    "from sklearn.metrics import f1_score, classification_report, confusion_matrix, accuracy_score"
   ]
  },
  {
   "cell_type": "code",
   "execution_count": 23,
   "id": "b4efc20c",
   "metadata": {},
   "outputs": [
    {
     "name": "stdout",
     "output_type": "stream",
     "text": [
      "88.07692307692308\n",
      "              precision    recall  f1-score   support\n",
      "\n",
      "       green       0.79      0.89      0.84        61\n",
      "      orange       0.88      0.88      0.88        73\n",
      "         red       0.94      0.97      0.95        62\n",
      "      yellow       0.93      0.80      0.86        64\n",
      "\n",
      "    accuracy                           0.88       260\n",
      "   macro avg       0.88      0.88      0.88       260\n",
      "weighted avg       0.88      0.88      0.88       260\n",
      "\n"
     ]
    },
    {
     "data": {
      "text/plain": [
       "[]"
      ]
     },
     "execution_count": 23,
     "metadata": {},
     "output_type": "execute_result"
    },
    {
     "data": {
      "image/png": "[encoded data removed]",
      "text/plain": [
       "<Figure size 640x480 with 2 Axes>"
      ]
     },
     "metadata": {},
     "output_type": "display_data"
    }
   ],
   "source": [
    "dt_pred = dt.predict(X_test)\n",
    "print(accuracy_score(dt_pred,y_test)*100)\n",
    "print(classification_report(dt_pred, y_test))\n",
    "sns.heatmap(confusion_matrix(dt_pred, y_test), annot = True)\n",
    "plt.plot()"
   ]
  },
  {
   "cell_type": "code",
   "execution_count": 24,
   "id": "a25563af",
   "metadata": {},
   "outputs": [],
   "source": [
    "from sklearn.neighbors import KNeighborsClassifier"
   ]
  },
  {
   "cell_type": "code",
   "execution_count": 25,
   "id": "30bf362a",
   "metadata": {
    "execution": {
     "iopub.execute_input": "2023-03-16T16:52:43.824266Z",
     "iopub.status.busy": "2023-03-16T16:52:43.823058Z",
     "iopub.status.idle": "2023-03-16T16:52:43.831909Z",
     "shell.execute_reply": "2023-03-16T16:52:43.830865Z"
    },
    "papermill": {
     "duration": 0.023796,
     "end_time": "2023-03-16T16:52:43.834388",
     "exception": false,
     "start_time": "2023-03-16T16:52:43.810592",
     "status": "completed"
    },
    "tags": []
   },
   "outputs": [
    {
     "data": {
      "text/plain": [
       "KNeighborsClassifier()"
      ]
     },
     "execution_count": 25,
     "metadata": {},
     "output_type": "execute_result"
    }
   ],
   "source": [
    "knn = KNeighborsClassifier()\n",
    "knn.fit(X_train, y_train)"
   ]
  },
  {
   "cell_type": "code",
   "execution_count": 26,
   "id": "1c255d3e",
   "metadata": {},
   "outputs": [
    {
     "name": "stdout",
     "output_type": "stream",
     "text": [
      "89.23076923076924\n",
      "              precision    recall  f1-score   support\n",
      "\n",
      "       green       0.78      0.96      0.86        55\n",
      "      orange       0.95      0.83      0.88        83\n",
      "         red       0.92      0.95      0.94        62\n",
      "      yellow       0.93      0.85      0.89        60\n",
      "\n",
      "    accuracy                           0.89       260\n",
      "   macro avg       0.89      0.90      0.89       260\n",
      "weighted avg       0.90      0.89      0.89       260\n",
      "\n"
     ]
    },
    {
     "name": "stderr",
     "output_type": "stream",
     "text": [
      "C:\\Users\\prajw\\anaconda3\\lib\\site-packages\\sklearn\\neighbors\\_classification.py:228: FutureWarning: Unlike other reduction functions (e.g. `skew`, `kurtosis`), the default behavior of `mode` typically preserves the axis it acts along. In SciPy 1.11.0, this behavior will change: the default value of `keepdims` will become False, the `axis` over which the statistic is taken will be eliminated, and the value None will no longer be accepted. Set `keepdims` to True or False to avoid this warning.\n",
      "  mode, _ = stats.mode(_y[neigh_ind, k], axis=1)\n"
     ]
    },
    {
     "data": {
      "text/plain": [
       "[]"
      ]
     },
     "execution_count": 26,
     "metadata": {},
     "output_type": "execute_result"
    },
    {
     "data": {
      "image/png": "[encoded data removed]",
      "text/plain": [
       "<Figure size 640x480 with 2 Axes>"
      ]
     },
     "metadata": {},
     "output_type": "display_data"
    }
   ],
   "source": [
    "knn_pred = knn.predict(X_test)\n",
    "print(accuracy_score(knn_pred, y_test)*100)\n",
    "print(classification_report(knn_pred, y_test))\n",
    "sns.heatmap(confusion_matrix(knn_pred, y_test), annot = True)\n",
    "plt.plot()"
   ]
  },
  {
   "cell_type": "code",
   "execution_count": 27,
   "id": "804bc0b9",
   "metadata": {},
   "outputs": [],
   "source": [
    "from sklearn.ensemble import RandomForestClassifier"
   ]
  },
  {
   "cell_type": "code",
   "execution_count": 28,
   "id": "93290867",
   "metadata": {
    "execution": {
     "iopub.execute_input": "2023-03-16T16:52:45.061082Z",
     "iopub.status.busy": "2023-03-16T16:52:45.059814Z",
     "iopub.status.idle": "2023-03-16T16:52:45.315367Z",
     "shell.execute_reply": "2023-03-16T16:52:45.314018Z"
    },
    "papermill": {
     "duration": 0.271576,
     "end_time": "2023-03-16T16:52:45.318381",
     "exception": false,
     "start_time": "2023-03-16T16:52:45.046805",
     "status": "completed"
    },
    "tags": []
   },
   "outputs": [
    {
     "data": {
      "text/plain": [
       "RandomForestClassifier(random_state=42)"
      ]
     },
     "execution_count": 28,
     "metadata": {},
     "output_type": "execute_result"
    }
   ],
   "source": [
    "rf = RandomForestClassifier(random_state=42)\n",
    "rf.fit(X_train, y_train)"
   ]
  },
  {
   "cell_type": "code",
   "execution_count": 29,
   "id": "cd7b0b49",
   "metadata": {},
   "outputs": [
    {
     "name": "stdout",
     "output_type": "stream",
     "text": [
      "91.15384615384615\n",
      "              precision    recall  f1-score   support\n",
      "\n",
      "       green       0.82      0.93      0.87        60\n",
      "      orange       0.95      0.91      0.93        76\n",
      "         red       0.95      0.98      0.97        62\n",
      "      yellow       0.93      0.82      0.87        62\n",
      "\n",
      "    accuracy                           0.91       260\n",
      "   macro avg       0.91      0.91      0.91       260\n",
      "weighted avg       0.91      0.91      0.91       260\n",
      "\n"
     ]
    },
    {
     "data": {
      "text/plain": [
       "[]"
      ]
     },
     "execution_count": 29,
     "metadata": {},
     "output_type": "execute_result"
    },
    {
     "data": {
      "image/png": "[encoded data removed]",
      "text/plain": [
       "<Figure size 640x480 with 2 Axes>"
      ]
     },
     "metadata": {},
     "output_type": "display_data"
    }
   ],
   "source": [
    "rf_pred = rf.predict(X_test)\n",
    "print(accuracy_score(rf_pred, y_test)*100)\n",
    "print(classification_report(rf_pred, y_test))\n",
    "sns.heatmap(confusion_matrix(rf_pred, y_test), annot = True)\n",
    "plt.plot()"
   ]
  },
  {
   "cell_type": "code",
   "execution_count": 30,
   "id": "47b09f59",
   "metadata": {},
   "outputs": [],
   "source": [
    "from sklearn.ensemble import GradientBoostingClassifier"
   ]
  },
  {
   "cell_type": "code",
   "execution_count": 31,
   "id": "a0ed43ef",
   "metadata": {
    "execution": {
     "iopub.execute_input": "2023-03-16T16:52:45.343349Z",
     "iopub.status.busy": "2023-03-16T16:52:45.342871Z",
     "iopub.status.idle": "2023-03-16T16:52:46.105257Z",
     "shell.execute_reply": "2023-03-16T16:52:46.104049Z"
    },
    "papermill": {
     "duration": 0.777892,
     "end_time": "2023-03-16T16:52:46.107982",
     "exception": false,
     "start_time": "2023-03-16T16:52:45.330090",
     "status": "completed"
    },
    "tags": []
   },
   "outputs": [
    {
     "data": {
      "text/plain": [
       "GradientBoostingClassifier(random_state=42)"
      ]
     },
     "execution_count": 31,
     "metadata": {},
     "output_type": "execute_result"
    }
   ],
   "source": [
    "gb = GradientBoostingClassifier(random_state=42)\n",
    "gb.fit(X_train, y_train)"
   ]
  },
  {
   "cell_type": "code",
   "execution_count": 32,
   "id": "9b7dc466",
   "metadata": {},
   "outputs": [
    {
     "name": "stdout",
     "output_type": "stream",
     "text": [
      "92.6923076923077\n",
      "              precision    recall  f1-score   support\n",
      "\n",
      "       green       0.82      0.93      0.87        60\n",
      "      orange       0.99      0.91      0.95        79\n",
      "         red       0.97      0.98      0.98        63\n",
      "      yellow       0.93      0.88      0.90        58\n",
      "\n",
      "    accuracy                           0.93       260\n",
      "   macro avg       0.93      0.93      0.93       260\n",
      "weighted avg       0.93      0.93      0.93       260\n",
      "\n"
     ]
    },
    {
     "data": {
      "text/plain": [
       "[]"
      ]
     },
     "execution_count": 32,
     "metadata": {},
     "output_type": "execute_result"
    },
    {
     "data": {
      "image/png": "[encoded data removed]",
      "text/plain": [
       "<Figure size 640x480 with 2 Axes>"
      ]
     },
     "metadata": {},
     "output_type": "display_data"
    }
   ],
   "source": [
    "gb_pred = gb.predict(X_test)\n",
    "print(accuracy_score(gb_pred, y_test)*100)\n",
    "print(classification_report(gb_pred, y_test))\n",
    "sns.heatmap(confusion_matrix(gb_pred, y_test), annot = True)\n",
    "plt.plot()"
   ]
  }
 ],
 "metadata": {
  "kernelspec": {
   "display_name": "Python 3 (ipykernel)",
   "language": "python",
   "name": "python3"
  },
  "language_info": {
   "codemirror_mode": {
    "name": "ipython",
    "version": 3
   },
   "file_extension": ".py",
   "mimetype": "text/x-python",
   "name": "python",
   "nbconvert_exporter": "python",
   "pygments_lexer": "ipython3",
   "version": "3.9.13"
  },
  "papermill": {
   "default_parameters": {},
   "duration": 18.601339,
   "end_time": "2023-03-16T16:52:47.399878",
   "environment_variables": {},
   "exception": null,
   "input_path": "__notebook__.ipynb",
   "output_path": "__notebook__.ipynb",
   "parameters": {},
   "start_time": "2023-03-16T16:52:28.798539",
   "version": "2.4.0"
  }
 },
 "nbformat": 4,
 "nbformat_minor": 5
}
